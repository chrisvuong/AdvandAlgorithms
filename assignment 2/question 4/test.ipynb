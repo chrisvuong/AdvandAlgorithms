{
 "cells": [
  {
   "cell_type": "code",
   "execution_count": 25,
   "metadata": {},
   "outputs": [],
   "source": [
    "game = {}\n",
    "with open(\"./bacon1.txt\") as f:\n",
    "    line = f.readline()\n",
    "    while(line):\n",
    "        movie = line.split('|')\n",
    "        actor, mov = movie\n",
    "        mov = mov.strip('\\n')\n",
    "        if(game.get(actor)):\n",
    "            game[actor].append(mov)\n",
    "        else:\n",
    "            game[actor] = [mov]\n",
    "        line = f.readline()"
   ]
  },
  {
   "cell_type": "code",
   "execution_count": 28,
   "metadata": {},
   "outputs": [
    {
     "data": {
      "text/plain": [
       "['Air Up There, The (1994)',\n",
       " 'Animal House (1978)',\n",
       " 'Apollo 13 (1995)',\n",
       " 'Balto (1995)',\n",
       " 'Beauty Shop (2005)',\n",
       " 'Big Picture, The (1989)',\n",
       " 'Cavedweller (2004)',\n",
       " 'Code of Conduct (2001)',\n",
       " 'Criminal Law (1988)',\n",
       " 'Destination Anywhere (1997)',\n",
       " 'Digging to China (1998)',\n",
       " 'Diner (1982)',\n",
       " 'End of the Line (1988)',\n",
       " 'Enormous Changes at the Last Minute (1983)',\n",
       " 'Few Good Men, A (1992)',\n",
       " 'Flatliners (1990)',\n",
       " \"Fleshing Out the 'Hollow Man' (2000)\",\n",
       " 'Footloose (1984)',\n",
       " 'Forty Deuce (1982)',\n",
       " 'Friday the 13th (1980)',\n",
       " 'He Said, She Said (1991)',\n",
       " 'Hero at Large (1980)',\n",
       " 'Hollow Man (2000)',\n",
       " 'Hollow Man: Anatomy of a Thriller (2000)',\n",
       " 'Imagine New York (2003)',\n",
       " 'In the Cut (2003)',\n",
       " 'JFK (1991)',\n",
       " 'Little Vicious, A (1991)',\n",
       " 'Lost Moon: The Triumph of Apollo 13 (1996)',\n",
       " 'Loverboy (2004)',\n",
       " 'Murder in the First (1995)',\n",
       " 'My Dog Skip (2000)',\n",
       " 'Mystic River (2003)',\n",
       " 'Mystic River: Beneath the Surface (2004)',\n",
       " 'New York Skyride (1994)',\n",
       " 'Novocaine (2001)',\n",
       " 'Only When I Laugh (1981)',\n",
       " 'Picture Perfect (1997)',\n",
       " 'Planes, Trains & Automobiles (1987)',\n",
       " 'Pyrates (1991)',\n",
       " 'Queens Logic (1991)',\n",
       " 'Quicksilver (1986)',\n",
       " 'River Wild, The (1994)',\n",
       " \"She's Having a Baby (1988)\",\n",
       " 'Sleepers (1996)',\n",
       " 'Starting Over (1979)',\n",
       " 'Stir of Echoes (1999)',\n",
       " 'Telling Lies in America (1997)',\n",
       " 'Trapped (2002)',\n",
       " 'Tremors (1990)',\n",
       " 'We Married Margo (2000)',\n",
       " 'Where Are They Now?: A Delta Alumni Update (2003)',\n",
       " 'Where the Truth Lies (2005)',\n",
       " 'White Water Summer (1987)',\n",
       " 'Wild Things (1998)',\n",
       " 'Woodsman, The (2004)',\n",
       " \"Yearbook: An 'Animal House' Reunion, The (1998)\"]"
      ]
     },
     "execution_count": 28,
     "metadata": {},
     "output_type": "execute_result"
    }
   ],
   "source": [
    "game.get(\"Kevin Bacon (I)\")"
   ]
  },
  {
   "cell_type": "code",
   "execution_count": null,
   "metadata": {},
   "outputs": [],
   "source": []
  },
  {
   "cell_type": "code",
   "execution_count": null,
   "metadata": {},
   "outputs": [],
   "source": []
  }
 ],
 "metadata": {
  "interpreter": {
   "hash": "136b61bd0692209d35540fd8d260364815527e4015824a68ae735970d75546ad"
  },
  "kernelspec": {
   "display_name": "Python 3.10.4 64-bit",
   "language": "python",
   "name": "python3"
  },
  "language_info": {
   "codemirror_mode": {
    "name": "ipython",
    "version": 3
   },
   "file_extension": ".py",
   "mimetype": "text/x-python",
   "name": "python",
   "nbconvert_exporter": "python",
   "pygments_lexer": "ipython3",
   "version": "3.10.4"
  },
  "orig_nbformat": 4
 },
 "nbformat": 4,
 "nbformat_minor": 2
}
