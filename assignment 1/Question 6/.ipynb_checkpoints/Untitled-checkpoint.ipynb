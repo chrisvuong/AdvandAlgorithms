{
 "cells": [
  {
   "cell_type": "code",
   "execution_count": 26,
   "id": "0160be99-43aa-4244-b574-c3d47a70816f",
   "metadata": {},
   "outputs": [],
   "source": [
    "f = open(\"dictionary.txt\", \"r\")\n",
    "dictionary = [i[:-1] for i in f]"
   ]
  },
  {
   "cell_type": "code",
   "execution_count": 160,
   "id": "ebd87714-2d57-4259-85f1-8314b382fed4",
   "metadata": {},
   "outputs": [],
   "source": [
    "size = 5\n",
    "d = [i for i in dictionary if len(i) == size]"
   ]
  },
  {
   "cell_type": "code",
   "execution_count": 161,
   "id": "ed0da9dc-e105-4f6c-ac54-c882088c9d67",
   "metadata": {},
   "outputs": [],
   "source": [
    "def head ( string ):\n",
    "    return string[1:3]\n",
    "def tail ( string ):\n",
    "    return string[-3:-1]\n",
    "def first (dictionary):\n",
    "    result = {}\n",
    "    for i in dictionary:\n",
    "        sub = head(i)\n",
    "        if result.get(sub):\n",
    "            result[sub].append(i)\n",
    "        else:\n",
    "            result[sub] = [i]\n",
    "    return result\n",
    "\n",
    "def last (dictionary):\n",
    "    result = {}\n",
    "    for i in dictionary:\n",
    "        sub = tail(i)\n",
    "        if result.get(sub):\n",
    "            result[sub].append(i)\n",
    "        else:\n",
    "            result[sub] = [i]\n",
    "    return result\n",
    "            "
   ]
  },
  {
   "cell_type": "code",
   "execution_count": 162,
   "id": "a9897bee-3fa5-4517-9196-9c2c1dff3c53",
   "metadata": {},
   "outputs": [],
   "source": [
    "HEAD = first(d)\n",
    "TAIL = last(d)"
   ]
  },
  {
   "cell_type": "code",
   "execution_count": 163,
   "id": "d27d4622-1864-48fc-a592-8c102005f1c5",
   "metadata": {},
   "outputs": [
    {
     "data": {
      "text/plain": [
       "'in'"
      ]
     },
     "execution_count": 163,
     "metadata": {},
     "output_type": "execute_result"
    }
   ],
   "source": [
    "max(TAIL, key = lambda k: len(TAIL[k]))"
   ]
  },
  {
   "cell_type": "code",
   "execution_count": 164,
   "id": "4bf634a8-c5be-4ea2-8e70-1c00d6c0f36f",
   "metadata": {},
   "outputs": [],
   "source": [
    "def get(x, F):\n",
    "    if F.get(x):\n",
    "        return len(F[x])\n",
    "    return 0"
   ]
  },
  {
   "cell_type": "code",
   "execution_count": 165,
   "id": "07a9daf5-2280-4d05-be55-95841d0898f7",
   "metadata": {},
   "outputs": [],
   "source": [
    "#pick word:\n",
    "words =  HEAD[max(HEAD, key = lambda k: get(k,HEAD))]"
   ]
  },
  {
   "cell_type": "code",
   "execution_count": 178,
   "id": "47c43ead-03c3-4dc2-8ea8-2b7fdaf505e4",
   "metadata": {},
   "outputs": [],
   "source": [
    "\n",
    "word = words.pop()\n",
    "#pick word\n",
    "# while len(words) == 1:\n",
    "posibilities = [] \n",
    "for word in words:\n",
    "    posibilities.append((word,TAIL[head(word)]))\n",
    "    "
   ]
  },
  {
   "cell_type": "code",
   "execution_count": 179,
   "id": "10d1fa07-31e8-4842-a6bc-31567c107c0d",
   "metadata": {},
   "outputs": [
    {
     "data": {
      "text/plain": [
       "('alarm',\n",
       " ['allay',\n",
       "  'anlas',\n",
       "  'atlas',\n",
       "  'balas',\n",
       "  'belay',\n",
       "  'bolar',\n",
       "  'bolas',\n",
       "  'bylaw',\n",
       "  'colas',\n",
       "  'delay',\n",
       "  'eclat',\n",
       "  'filar',\n",
       "  'galah',\n",
       "  'galas',\n",
       "  'galax',\n",
       "  'gulag',\n",
       "  'gular',\n",
       "  'hilar',\n",
       "  'hulas',\n",
       "  'hylas',\n",
       "  'inlay',\n",
       "  'jalap',\n",
       "  'kalam',\n",
       "  'kolas',\n",
       "  'kulak',\n",
       "  'lilac',\n",
       "  'malar',\n",
       "  'molal',\n",
       "  'molar',\n",
       "  'molas',\n",
       "  'ollas',\n",
       "  'pilaf',\n",
       "  'pilar',\n",
       "  'pilau',\n",
       "  'pilaw',\n",
       "  'polar',\n",
       "  'relax',\n",
       "  'relay',\n",
       "  'salad',\n",
       "  'salal',\n",
       "  'selah',\n",
       "  'solan',\n",
       "  'solar',\n",
       "  'splat',\n",
       "  'splay',\n",
       "  'talar',\n",
       "  'talas',\n",
       "  'telae',\n",
       "  'tilak',\n",
       "  'tolan',\n",
       "  'tolas',\n",
       "  'uhlan',\n",
       "  'unlay',\n",
       "  'velar',\n",
       "  'volar',\n",
       "  'xylan',\n",
       "  'yulan'])"
      ]
     },
     "execution_count": 179,
     "metadata": {},
     "output_type": "execute_result"
    }
   ],
   "source": [
    "posibilities[3]"
   ]
  },
  {
   "cell_type": "code",
   "execution_count": 168,
   "id": "1cc2edc8-fb98-4e7b-ba2f-488e30ffd6fe",
   "metadata": {},
   "outputs": [
    {
     "data": {
      "text/plain": [
       "['acari',\n",
       " 'afars',\n",
       " 'agars',\n",
       " 'alarm',\n",
       " 'alary',\n",
       " 'apart',\n",
       " 'award',\n",
       " 'aware',\n",
       " 'beard',\n",
       " 'bears',\n",
       " 'blare',\n",
       " 'board',\n",
       " 'boars',\n",
       " 'boart',\n",
       " 'chard',\n",
       " 'chare',\n",
       " 'chark',\n",
       " 'charm',\n",
       " 'charr',\n",
       " 'chars',\n",
       " 'chart',\n",
       " 'chary',\n",
       " 'claro',\n",
       " 'clary',\n",
       " 'czars',\n",
       " 'dears',\n",
       " 'deary',\n",
       " 'diary',\n",
       " 'dwarf',\n",
       " 'fears',\n",
       " 'fiars',\n",
       " 'flare',\n",
       " 'gears',\n",
       " 'glare',\n",
       " 'glary',\n",
       " 'gnarl',\n",
       " 'gnarr',\n",
       " 'gnars',\n",
       " 'guard',\n",
       " 'guars',\n",
       " 'haars',\n",
       " 'heard',\n",
       " 'hears',\n",
       " 'heart',\n",
       " 'hoard',\n",
       " 'hoars',\n",
       " 'hoary',\n",
       " 'inarm',\n",
       " 'izars',\n",
       " 'kbars',\n",
       " 'knars',\n",
       " 'kyars',\n",
       " 'learn',\n",
       " 'lears',\n",
       " 'leary',\n",
       " 'liard',\n",
       " 'liars',\n",
       " 'lyard',\n",
       " 'lyart',\n",
       " 'maars',\n",
       " 'nears',\n",
       " 'ovary',\n",
       " 'pearl',\n",
       " 'pears',\n",
       " 'peart',\n",
       " 'quare',\n",
       " 'quark',\n",
       " 'quart',\n",
       " 'rearm',\n",
       " 'rears',\n",
       " 'roars',\n",
       " 'scare',\n",
       " 'scarf',\n",
       " 'scarp',\n",
       " 'scars',\n",
       " 'scart',\n",
       " 'scary',\n",
       " 'sears',\n",
       " 'shard',\n",
       " 'share',\n",
       " 'shark',\n",
       " 'sharn',\n",
       " 'sharp',\n",
       " 'smarm',\n",
       " 'smart',\n",
       " 'snare',\n",
       " 'snark',\n",
       " 'snarl',\n",
       " 'soars',\n",
       " 'spare',\n",
       " 'spark',\n",
       " 'spars',\n",
       " 'stare',\n",
       " 'stark',\n",
       " 'stars',\n",
       " 'start',\n",
       " 'sward',\n",
       " 'sware',\n",
       " 'swarf',\n",
       " 'swarm',\n",
       " 'swart',\n",
       " 'tears',\n",
       " 'teary',\n",
       " 'tharm',\n",
       " 'tiara',\n",
       " 'tsars',\n",
       " 'tzars',\n",
       " 'unarm',\n",
       " 'unary',\n",
       " 'urare',\n",
       " 'urari',\n",
       " 'wears',\n",
       " 'weary',\n",
       " 'wharf',\n",
       " 'yearn']"
      ]
     },
     "execution_count": 168,
     "metadata": {},
     "output_type": "execute_result"
    }
   ],
   "source": [
    "words\n"
   ]
  },
  {
   "cell_type": "code",
   "execution_count": null,
   "id": "0a3b3aec-8691-4380-8819-7811bf883a3c",
   "metadata": {},
   "outputs": [],
   "source": []
  }
 ],
 "metadata": {
  "kernelspec": {
   "display_name": "Python 3 (ipykernel)",
   "language": "python",
   "name": "python3"
  },
  "language_info": {
   "codemirror_mode": {
    "name": "ipython",
    "version": 3
   },
   "file_extension": ".py",
   "mimetype": "text/x-python",
   "name": "python",
   "nbconvert_exporter": "python",
   "pygments_lexer": "ipython3",
   "version": "3.10.4"
  }
 },
 "nbformat": 4,
 "nbformat_minor": 5
}
